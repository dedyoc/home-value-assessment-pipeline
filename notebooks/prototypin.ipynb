{
 "cells": [
  {
   "cell_type": "code",
   "execution_count": 1,
   "id": "6a77c009-21f3-406e-8c8f-79e39b9bd2b6",
   "metadata": {},
   "outputs": [
    {
     "name": "stdout",
     "output_type": "stream",
     "text": [
      "hello world\n"
     ]
    }
   ],
   "source": [
    "print('hello world')"
   ]
  },
  {
   "cell_type": "code",
   "execution_count": 2,
   "id": "a26b1564-0b7b-41ef-be0a-1ceb3aea1ed4",
   "metadata": {},
   "outputs": [],
   "source": [
    "import polars as pl\n",
    "import datetime as dt"
   ]
  },
  {
   "cell_type": "code",
   "execution_count": 3,
   "id": "21d75e2f-5b6f-46f1-8627-2bf27e3a95fa",
   "metadata": {},
   "outputs": [
    {
     "data": {
      "text/plain": [
       "['.profile',\n",
       " '.bash_logout',\n",
       " '.bashrc',\n",
       " 'data',\n",
       " '.npm',\n",
       " '.conda',\n",
       " '.cache',\n",
       " '.wget-hsts',\n",
       " '.config',\n",
       " '.jupyter',\n",
       " '.local',\n",
       " '.ipython',\n",
       " 'work']"
      ]
     },
     "execution_count": 3,
     "metadata": {},
     "output_type": "execute_result"
    }
   ],
   "source": [
    "import os\n",
    "os.listdir(\"/home/jovyan\")"
   ]
  },
  {
   "cell_type": "code",
   "execution_count": 4,
   "id": "67eb06ab-16d8-48d3-8b49-2098ce637111",
   "metadata": {},
   "outputs": [],
   "source": [
    "states_path = '/home/jovyan/work/raw/states/'"
   ]
  },
  {
   "cell_type": "markdown",
   "id": "306af9f7-f810-4791-b52a-8d457e1f47ff",
   "metadata": {},
   "source": [
    "# Acquiring counties"
   ]
  },
  {
   "cell_type": "code",
   "execution_count": 5,
   "id": "691154db-2ea1-4535-afab-22043369926d",
   "metadata": {},
   "outputs": [],
   "source": [
    "class CountyAcquisition:\n",
    "    def __init__(self, out_dir='raw/states/'):\n",
    "        self.out_dir = out_dir\n",
    "        os.makedirs(out_dir, exist_ok=True)\n",
    "\n",
    "    def run(self, in_file='2021_Gaz_counties_national.txt'):\n",
    "        \"\"\"Parse all US counties from here:\n",
    "        https://www2.census.gov/geo/docs/maps-data/data/gazetteer/2021_Gazetteer/2021_Gaz_counties_national.zip\n",
    "\n",
    "        Args:\n",
    "            in_file (str, optional): Input wget file. Defaults to '2021_Gaz_counties_national.txt'.\n",
    "        \"\"\"\n",
    "        df = pl.read_csv(in_file, separator='\\t')\n",
    "        for c in list(df['USPS'].unique()):\n",
    "            df2 = df.filter(pl.col(\"USPS\") == c)\n",
    "            os.makedirs(f'{self.out_dir}/{c}', exist_ok=True)\n",
    "            df2.write_csv(f'{self.out_dir}/{c}/counties.csv')"
   ]
  },
  {
   "cell_type": "code",
   "execution_count": 6,
   "id": "1f24030b-e9b0-4d82-9955-af1cffcbcb74",
   "metadata": {},
   "outputs": [],
   "source": [
    "ca = CountyAcquisition('/home/jovyan/work/raw/states/')\n",
    "ca.run(\"/home/jovyan/data/2024_Gaz_counties_national.txt\")"
   ]
  },
  {
   "cell_type": "markdown",
   "id": "fa6bd95a-050d-4ae6-abea-0ccdca64cfdb",
   "metadata": {},
   "source": [
    "# Acquiring State"
   ]
  },
  {
   "cell_type": "code",
   "execution_count": 7,
   "id": "ea75658e-385e-4537-b812-68d680b1a7cd",
   "metadata": {},
   "outputs": [],
   "source": [
    "class StateAcquisition:\n",
    "    def __init__(self, out_dir='raw/states/'):\n",
    "        self.out_dir = out_dir\n",
    "        os.makedirs(out_dir, exist_ok=True)\n",
    "\n",
    "    def run(self, in_file='zip_code_database.csv'):\n",
    "        \"\"\"Parses a list of all ZIPS per state\n",
    "\n",
    "        Args:\n",
    "            in_file (str, optional): [description]. Defaults to 'zip_code_database.csv'.\n",
    "        \"\"\"\n",
    "        df = pl.read_csv(in_file)\n",
    "        for c in list(df['state'].unique()):\n",
    "            df2 = df.filter(pl.col(\"state\") == c)\n",
    "            os.makedirs(f'{self.out_dir}/{c}', exist_ok=True)\n",
    "            df2.write_csv(f'{self.out_dir}/{c}/zips.csv')"
   ]
  },
  {
   "cell_type": "code",
   "execution_count": 8,
   "id": "a8af8a82-e725-4b5f-b414-84956b676070",
   "metadata": {},
   "outputs": [],
   "source": [
    "sa = StateAcquisition('/home/jovyan/work/raw/states/')\n",
    "sa.run(\"/home/jovyan/data/zip_code_database.csv\")"
   ]
  },
  {
   "cell_type": "markdown",
   "id": "9b63970a-4063-44e4-b1bc-22e42e515575",
   "metadata": {},
   "source": [
    "# Fetcing ACS Data"
   ]
  },
  {
   "cell_type": "code",
   "execution_count": 9,
   "id": "0f309205-4cf9-4234-949d-2e44a2e4f85c",
   "metadata": {},
   "outputs": [],
   "source": [
    "import requests\n",
    "import json\n",
    "import os\n",
    "import logging\n",
    "import polars as pl\n",
    "from concurrent.futures import ThreadPoolExecutor\n",
    "from tqdm import tqdm  # For progress bar\n",
    "\n",
    "\n",
    "logger = logging.getLogger(__name__)\n",
    "\n",
    "class GeographicsAcquisition:\n",
    "    def __init__(self, states_path: str):\n",
    "        self.states_path = states_path\n",
    "\n",
    "    def _save(self, data: dict, out_path: str):\n",
    "        if data:\n",
    "            with open(out_path, 'w') as f:\n",
    "                json.dump(data, f)\n",
    "\n",
    "    def _get_geographics(self, by: str, on: str) -> dict:\n",
    "        \"\"\"Gets Geographics data from CensusReporter.org.\"\"\"\n",
    "        years = ['2018', '2019', '2020', '2021', '2022', '2023', '2017', '2016', '2015']\n",
    "        summary = '860' if by == 'zip' else '050'\n",
    "\n",
    "        with requests.Session() as s:\n",
    "            for year in years:  # Iterate through years efficiently\n",
    "                url = f'http://embed.censusreporter.org.s3.amazonaws.com/1.0/data/profiles/{year}/{summary}00US{on}.json'\n",
    "                try:\n",
    "                    r = s.get(url, timeout=2)\n",
    "                    r.raise_for_status()  # Raise HTTPError for bad responses (4xx or 5xx)\n",
    "                    return json.loads(r.content.decode())\n",
    "                except requests.exceptions.HTTPError as e:\n",
    "                    if e.response.status_code == 404:\n",
    "                       logger.debug(f\"Data not found for {on} in {year}. Skipping.\") # Reduce verbosity for 404\n",
    "                       continue # Goes to the next year. If all years fails, returns None at the end\n",
    "                    else:\n",
    "                        logger.warning(f\"HTTP error (status {e.response.status_code}) fetching data for {on} in {year}: {e}\")\n",
    "                        return None # Do not try more years if it fails for reasons other than 404\n",
    "                except requests.exceptions.RequestException as e:\n",
    "                    logger.warning(f\"Error fetching data for {on} in {year}: {e}\")  # Log the warning and continue\n",
    "\n",
    "        return None  # Return None if no data found for all years\n",
    "\n",
    "\n",
    "\n",
    "    def process_state(self, state_code: str):\n",
    "        state_path = os.path.join(self.states_path, state_code)\n",
    "        zips_path = os.path.join(state_path, 'zips.csv')\n",
    "        counties_path = os.path.join(state_path, 'counties.csv')\n",
    "        out_dir = state_path\n",
    "\n",
    "        os.makedirs(os.path.join(out_dir, 'counties'), exist_ok=True)\n",
    "        os.makedirs(os.path.join(out_dir, 'zips'), exist_ok=True)\n",
    "\n",
    "\n",
    "\n",
    "        try:\n",
    "            zips_df = pl.read_csv(zips_path)\n",
    "            counties_df = pl.read_csv(counties_path)\n",
    "        except FileNotFoundError as e:\n",
    "            logger.error(f\"Error reading files for state {state_code}: {e}\")\n",
    "            return\n",
    "\n",
    "\n",
    "\n",
    "        with ThreadPoolExecutor() as executor:\n",
    "            # Process ZIP codes\n",
    "            zip_futures = [executor.submit(self._process_geographics, 'zip', row['zip'], out_dir) for row in zips_df.iter_rows(named=True)]\n",
    "            for future in tqdm(zip_futures, desc=f\"Processing ZIPs for {state_code}\", unit=\"zip\"):\n",
    "                future.result()  # Retrieve results (mostly for exception handling)\n",
    "\n",
    "\n",
    "            # Process counties\n",
    "            county_futures = [executor.submit(self._process_geographics, 'county', row['GEOID'], out_dir, county_name=row['NAME'].replace(' County', '')) for row in counties_df.iter_rows(named=True)]\n",
    "            for future in tqdm(county_futures, desc=f\"Processing Counties for {state_code}\", unit=\"county\"):\n",
    "                future.result()\n",
    "\n",
    "\n",
    "    def _process_geographics(self, by: str, on: str, out_dir: str, county_name:str=None):\n",
    "        _out_file = f'zips/{on}.json' if by=='zip' else f'counties/{county_name}.json'\n",
    "        _out_path = os.path.join(out_dir, _out_file)\n",
    "        if not os.path.exists(_out_path):\n",
    "            data = self._get_geographics(by=by, on=on)\n",
    "            self._save(data, _out_path)\n",
    "\n",
    "\n",
    "    def run(self):\n",
    "        state_codes = [f.name for f in os.scandir(self.states_path) if f.is_dir()]\n",
    "        for state_code in state_codes:\n",
    "            self.process_state(state_code)"
   ]
  },
  {
   "cell_type": "code",
   "execution_count": 10,
   "id": "42a3a560-81ec-4ae1-bcf4-68605ac2956c",
   "metadata": {},
   "outputs": [
    {
     "name": "stderr",
     "output_type": "stream",
     "text": [
      "Processing ZIPs for WY: 100%|██████████| 195/195 [00:02<00:00, 78.21zip/s]\n",
      "Processing Counties for WY: 100%|██████████| 23/23 [00:01<00:00, 17.49county/s]\n",
      "Processing ZIPs for AZ: 100%|██████████| 569/569 [00:34<00:00, 16.35zip/s]\n",
      "Processing Counties for AZ: 100%|██████████| 15/15 [00:02<00:00,  5.81county/s]\n",
      "Processing ZIPs for TN: 100%|██████████| 796/796 [00:41<00:00, 19.02zip/s]\n",
      "Processing Counties for TN: 100%|██████████| 95/95 [00:03<00:00, 27.71county/s]\n",
      "Error reading files for state AP: No such file or directory (os error 2): /home/jovyan/work/raw/states/AP/counties.csv\n",
      "Processing ZIPs for KY: 100%|██████████| 966/966 [00:49<00:00, 19.46zip/s]\n",
      "Processing Counties for KY: 100%|██████████| 120/120 [00:04<00:00, 29.71county/s]\n",
      "Processing ZIPs for CA: 100%|██████████| 2655/2655 [02:46<00:00, 15.99zip/s]\n",
      "Processing Counties for CA: 100%|██████████| 58/58 [00:07<00:00,  7.60county/s]\n",
      "Processing ZIPs for TX: 100%|██████████| 2661/2661 [02:30<00:00, 17.64zip/s]\n",
      "Processing Counties for TX: 100%|██████████| 254/254 [00:08<00:00, 31.12county/s]\n",
      "Processing ZIPs for MN: 100%|██████████| 1032/1032 [00:46<00:00, 22.09zip/s]\n",
      "Processing Counties for MN: 100%|██████████| 87/87 [00:03<00:00, 26.98county/s]\n",
      "Processing ZIPs for MS: 100%|██████████| 533/533 [00:27<00:00, 19.16zip/s]\n",
      "Processing Counties for MS: 100%|██████████| 82/82 [00:02<00:00, 28.33county/s]\n",
      "Processing ZIPs for AR: 100%|██████████| 712/712 [00:34<00:00, 20.48zip/s]\n",
      "Processing Counties for AR: 100%|██████████| 75/75 [00:10<00:00,  7.32county/s]\n",
      "Processing ZIPs for MO: 100%|██████████| 1174/1174 [00:50<00:00, 23.18zip/s]\n",
      "Processing Counties for MO: 100%|██████████| 115/115 [00:03<00:00, 28.83county/s]\n",
      "Processing ZIPs for OR: 100%|██████████| 492/492 [00:24<00:00, 19.90zip/s]\n",
      "Processing Counties for OR: 100%|██████████| 36/36 [00:01<00:00, 24.99county/s]\n",
      "Processing ZIPs for LA: 100%|██████████| 725/725 [00:43<00:00, 16.58zip/s]\n",
      "Processing Counties for LA: 100%|██████████| 64/64 [00:02<00:00, 26.13county/s]\n",
      "Processing ZIPs for OK: 100%|██████████| 776/776 [00:37<00:00, 20.91zip/s]\n",
      "Processing Counties for OK: 100%|██████████| 77/77 [00:02<00:00, 29.57county/s]\n",
      "Processing ZIPs for NV: 100%|██████████| 255/255 [00:16<00:00, 15.26zip/s]\n",
      "Processing Counties for NV: 100%|██████████| 17/17 [00:00<00:00, 21.00county/s]\n",
      "Error reading files for state PW: No such file or directory (os error 2): /home/jovyan/work/raw/states/PW/counties.csv\n",
      "Processing ZIPs for AK: 100%|██████████| 274/274 [00:13<00:00, 20.20zip/s]\n",
      "Processing Counties for AK: 100%|██████████| 30/30 [00:05<00:00,  5.52county/s]\n",
      "Processing ZIPs for NE: 100%|██████████| 621/621 [00:26<00:00, 23.82zip/s]\n",
      "Processing Counties for NE: 100%|██████████| 93/93 [00:03<00:00, 28.81county/s]\n",
      "Processing ZIPs for IA: 100%|██████████| 1063/1063 [00:46<00:00, 22.85zip/s]\n",
      "Processing Counties for IA: 100%|██████████| 99/99 [00:03<00:00, 28.15county/s]\n",
      "Processing ZIPs for WV: 100%|██████████| 857/857 [00:44<00:00, 19.37zip/s]\n",
      "Processing Counties for WV: 100%|██████████| 55/55 [00:02<00:00, 26.01county/s]\n",
      "Processing ZIPs for DE: 100%|██████████| 98/98 [00:08<00:00, 11.98zip/s]\n",
      "Processing Counties for DE: 100%|██████████| 3/3 [00:01<00:00,  1.84county/s]\n",
      "Processing ZIPs for HI: 100%|██████████| 139/139 [00:10<00:00, 13.43zip/s]\n",
      "Processing Counties for HI: 100%|██████████| 5/5 [00:00<00:00,  8.02county/s]\n",
      "Processing ZIPs for IL: 100%|██████████| 1590/1590 [01:17<00:00, 20.63zip/s]\n",
      "Processing Counties for IL: 100%|██████████| 102/102 [00:03<00:00, 26.65county/s]\n",
      "Error reading files for state AA: No such file or directory (os error 2): /home/jovyan/work/raw/states/AA/counties.csv\n",
      "Processing ZIPs for UT: 100%|██████████| 348/348 [00:19<00:00, 18.22zip/s]\n",
      "Processing Counties for UT: 100%|██████████| 29/29 [00:01<00:00, 20.94county/s]\n",
      "Processing ZIPs for GA: 100%|██████████| 973/973 [00:58<00:00, 16.61zip/s]\n",
      "Processing Counties for GA: 100%|██████████| 159/159 [00:06<00:00, 25.45county/s]\n",
      "Processing ZIPs for VA: 100%|██████████| 1241/1241 [01:14<00:00, 16.65zip/s]\n",
      "Processing Counties for VA: 100%|██████████| 133/133 [00:04<00:00, 29.14county/s]\n",
      "Processing ZIPs for NM: 100%|██████████| 428/428 [00:21<00:00, 20.22zip/s]\n",
      "Processing Counties for NM: 100%|██████████| 33/33 [00:01<00:00, 22.17county/s]\n",
      "Processing ZIPs for RI: 100%|██████████| 91/91 [00:12<00:00,  7.15zip/s]\n",
      "Processing Counties for RI: 100%|██████████| 5/5 [00:00<00:00,  6.13county/s]\n",
      "Processing ZIPs for FL: 100%|██████████| 1495/1495 [01:39<00:00, 15.07zip/s]\n",
      "Processing Counties for FL: 100%|██████████| 67/67 [00:02<00:00, 26.58county/s]\n",
      "Processing ZIPs for DC: 100%|██████████| 310/310 [00:37<00:00,  8.26zip/s]\n",
      "Processing Counties for DC: 100%|██████████| 1/1 [00:00<00:00,  1.60county/s]\n",
      "Processing ZIPs for ID: 100%|██████████| 325/325 [00:18<00:00, 17.75zip/s]\n",
      "Processing Counties for ID: 100%|██████████| 44/44 [00:02<00:00, 21.67county/s]\n",
      "Processing ZIPs for MT: 100%|██████████| 405/405 [00:19<00:00, 21.25zip/s]\n",
      "Processing Counties for MT: 100%|██████████| 56/56 [00:02<00:00, 19.84county/s]\n",
      "Processing ZIPs for SC: 100%|██████████| 540/540 [00:29<00:00, 18.35zip/s]\n",
      "Processing Counties for SC: 100%|██████████| 46/46 [00:01<00:00, 23.02county/s]\n",
      "Processing ZIPs for WI: 100%|██████████| 898/898 [00:40<00:00, 21.96zip/s]\n",
      "Processing Counties for WI: 100%|██████████| 72/72 [00:02<00:00, 26.36county/s]\n",
      "Error reading files for state FM: No such file or directory (os error 2): /home/jovyan/work/raw/states/FM/counties.csv\n",
      "Error reading files for state MP: No such file or directory (os error 2): /home/jovyan/work/raw/states/MP/counties.csv\n",
      "Error reading files for state AE: No such file or directory (os error 2): /home/jovyan/work/raw/states/AE/counties.csv\n",
      "Processing ZIPs for IN: 100%|██████████| 991/991 [00:52<00:00, 18.86zip/s]\n",
      "Processing Counties for IN: 100%|██████████| 92/92 [00:03<00:00, 27.58county/s]\n",
      "Processing ZIPs for WA: 100%|██████████| 733/733 [00:35<00:00, 20.46zip/s]\n",
      "Processing Counties for WA: 100%|██████████| 39/39 [00:01<00:00, 24.37county/s]\n",
      "Processing ZIPs for CT: 100%|██████████| 438/438 [01:00<00:00,  7.20zip/s]\n",
      "Processing Counties for CT: 100%|██████████| 9/9 [00:02<00:00,  3.26county/s]\n",
      "Processing ZIPs for NH: 100%|██████████| 284/284 [00:38<00:00,  7.38zip/s]\n",
      "Processing Counties for NH: 100%|██████████| 10/10 [00:00<00:00, 14.56county/s]\n",
      "Error reading files for state VI: No such file or directory (os error 2): /home/jovyan/work/raw/states/VI/counties.csv\n",
      "Processing ZIPs for PA: 100%|██████████| 2213/2213 [01:49<00:00, 20.24zip/s]\n",
      "Processing Counties for PA: 100%|██████████| 67/67 [00:02<00:00, 25.45county/s]\n",
      "Processing ZIPs for AL: 100%|██████████| 839/839 [00:45<00:00, 18.33zip/s]\n",
      "Processing Counties for AL: 100%|██████████| 67/67 [00:10<00:00,  6.59county/s]\n",
      "Processing ZIPs for OH: 100%|██████████| 1447/1447 [01:10<00:00, 20.66zip/s]\n",
      "Processing Counties for OH: 100%|██████████| 88/88 [00:03<00:00, 27.84county/s]\n",
      "Processing ZIPs for MA: 100%|██████████| 703/703 [01:31<00:00,  7.72zip/s]\n",
      "Processing Counties for MA: 100%|██████████| 14/14 [00:00<00:00, 19.96county/s]\n",
      "Processing ZIPs for MD: 100%|██████████| 622/622 [00:35<00:00, 17.51zip/s]\n",
      "Processing Counties for MD: 100%|██████████| 24/24 [00:01<00:00, 18.54county/s]\n",
      "Processing ZIPs for VT: 100%|██████████| 309/309 [00:40<00:00,  7.65zip/s]\n",
      "Processing Counties for VT: 100%|██████████| 14/14 [00:00<00:00, 19.56county/s]\n",
      "Error reading files for state AS: No such file or directory (os error 2): /home/jovyan/work/raw/states/AS/counties.csv\n",
      "Processing ZIPs for NJ: 100%|██████████| 732/732 [01:33<00:00,  7.79zip/s]\n",
      "Processing Counties for NJ: 100%|██████████| 21/21 [00:01<00:00, 17.17county/s]\n",
      "Processing ZIPs for NC: 100%|██████████| 1091/1091 [01:01<00:00, 17.73zip/s]\n",
      "Processing Counties for NC: 100%|██████████| 100/100 [00:03<00:00, 27.41county/s]\n",
      "Processing ZIPs for NY: 100%|██████████| 2209/2209 [01:50<00:00, 20.05zip/s]\n",
      "Processing Counties for NY: 100%|██████████| 62/62 [00:02<00:00, 26.95county/s]\n",
      "Error reading files for state GU: No such file or directory (os error 2): /home/jovyan/work/raw/states/GU/counties.csv\n",
      "Processing ZIPs for MI: 100%|██████████| 1170/1170 [00:54<00:00, 21.45zip/s]\n",
      "Processing Counties for MI: 100%|██████████| 83/83 [00:03<00:00, 27.28county/s]\n",
      "Processing ZIPs for PR: 100%|██████████| 176/176 [00:23<00:00,  7.59zip/s]\n",
      "Processing Counties for PR: 100%|██████████| 78/78 [00:02<00:00, 27.46county/s]\n",
      "Processing ZIPs for SD: 100%|██████████| 394/394 [00:15<00:00, 25.65zip/s]\n",
      "Processing Counties for SD: 100%|██████████| 66/66 [00:02<00:00, 24.87county/s]\n",
      "Error reading files for state MH: No such file or directory (os error 2): /home/jovyan/work/raw/states/MH/counties.csv\n",
      "Processing ZIPs for ME: 100%|██████████| 488/488 [01:04<00:00,  7.60zip/s]\n",
      "Processing Counties for ME: 100%|██████████| 16/16 [00:00<00:00, 16.96county/s]\n",
      "Processing ZIPs for KS: 100%|██████████| 757/757 [00:31<00:00, 23.99zip/s]\n",
      "Processing Counties for KS: 100%|██████████| 105/105 [00:03<00:00, 29.24county/s]\n",
      "Processing ZIPs for CO: 100%|██████████| 662/662 [00:37<00:00, 17.72zip/s]\n",
      "Processing Counties for CO: 100%|██████████| 64/64 [00:10<00:00,  6.29county/s]\n",
      "Processing ZIPs for ND: 100%|██████████| 408/408 [00:16<00:00, 24.93zip/s]\n",
      "Processing Counties for ND: 100%|██████████| 53/53 [00:01<00:00, 26.53county/s]\n"
     ]
    }
   ],
   "source": [
    "\n",
    "# Example usage:\n",
    "states_path = \"/home/jovyan/work/raw/states/\"\n",
    "ga = GeographicsAcquisition(states_path)\n",
    "ga.run()"
   ]
  },
  {
   "cell_type": "code",
   "execution_count": null,
   "id": "45e6b322-9e5f-4004-821b-71fb1986f545",
   "metadata": {},
   "outputs": [],
   "source": []
  }
 ],
 "metadata": {
  "kernelspec": {
   "display_name": "Python 3 (ipykernel)",
   "language": "python",
   "name": "python3"
  },
  "language_info": {
   "codemirror_mode": {
    "name": "ipython",
    "version": 3
   },
   "file_extension": ".py",
   "mimetype": "text/x-python",
   "name": "python",
   "nbconvert_exporter": "python",
   "pygments_lexer": "ipython3",
   "version": "3.11.6"
  }
 },
 "nbformat": 4,
 "nbformat_minor": 5
}
