{
 "cells": [
  {
   "cell_type": "code",
   "execution_count": 1,
   "id": "6a77c009-21f3-406e-8c8f-79e39b9bd2b6",
   "metadata": {},
   "outputs": [
    {
     "name": "stdout",
     "output_type": "stream",
     "text": [
      "hello world\n"
     ]
    }
   ],
   "source": [
    "print('hello world')"
   ]
  },
  {
   "cell_type": "code",
   "execution_count": 2,
   "id": "a26b1564-0b7b-41ef-be0a-1ceb3aea1ed4",
   "metadata": {},
   "outputs": [],
   "source": [
    "import polars as pl\n",
    "import datetime as dt"
   ]
  },
  {
   "cell_type": "code",
   "execution_count": 3,
   "id": "21d75e2f-5b6f-46f1-8627-2bf27e3a95fa",
   "metadata": {},
   "outputs": [
    {
     "data": {
      "text/plain": [
       "['.profile',\n",
       " '.bash_logout',\n",
       " '.bashrc',\n",
       " 'data',\n",
       " '.npm',\n",
       " '.conda',\n",
       " '.cache',\n",
       " '.wget-hsts',\n",
       " '.config',\n",
       " '.jupyter',\n",
       " '.local',\n",
       " '.ipython',\n",
       " 'work']"
      ]
     },
     "execution_count": 3,
     "metadata": {},
     "output_type": "execute_result"
    }
   ],
   "source": [
    "import os\n",
    "os.listdir(\"/home/jovyan\")"
   ]
  },
  {
   "cell_type": "code",
   "execution_count": 12,
   "id": "67eb06ab-16d8-48d3-8b49-2098ce637111",
   "metadata": {},
   "outputs": [],
   "source": [
    "states_path = '/home/jovyan/work/raw/states/'"
   ]
  },
  {
   "cell_type": "markdown",
   "id": "306af9f7-f810-4791-b52a-8d457e1f47ff",
   "metadata": {},
   "source": [
    "# Acquiring counties"
   ]
  },
  {
   "cell_type": "code",
   "execution_count": 5,
   "id": "691154db-2ea1-4535-afab-22043369926d",
   "metadata": {},
   "outputs": [],
   "source": [
    "class CountyAcquisition:\n",
    "    def __init__(self, out_dir='raw/states/'):\n",
    "        self.out_dir = out_dir\n",
    "        os.makedirs(out_dir, exist_ok=True)\n",
    "\n",
    "    def run(self, in_file='2021_Gaz_counties_national.txt'):\n",
    "        \"\"\"Parse all US counties from here:\n",
    "        https://www2.census.gov/geo/docs/maps-data/data/gazetteer/2021_Gazetteer/2021_Gaz_counties_national.zip\n",
    "\n",
    "        Args:\n",
    "            in_file (str, optional): Input wget file. Defaults to '2021_Gaz_counties_national.txt'.\n",
    "        \"\"\"\n",
    "        df = pl.read_csv(in_file, separator='\\t')\n",
    "        for c in list(df['USPS'].unique()):\n",
    "            df2 = df.filter(pl.col(\"USPS\") == c)\n",
    "            os.makedirs(f'{self.out_dir}/{c}', exist_ok=True)\n",
    "            df2.write_csv(f'{self.out_dir}/{c}/counties.csv')"
   ]
  },
  {
   "cell_type": "code",
   "execution_count": 6,
   "id": "1f24030b-e9b0-4d82-9955-af1cffcbcb74",
   "metadata": {},
   "outputs": [],
   "source": [
    "ca = CountyAcquisition('/home/jovyan/work/raw/states/')\n",
    "ca.run(\"/home/jovyan/data/2024_Gaz_counties_national.txt\")"
   ]
  },
  {
   "cell_type": "markdown",
   "id": "fa6bd95a-050d-4ae6-abea-0ccdca64cfdb",
   "metadata": {},
   "source": [
    "# Acquiring State"
   ]
  },
  {
   "cell_type": "code",
   "execution_count": 9,
   "id": "ea75658e-385e-4537-b812-68d680b1a7cd",
   "metadata": {},
   "outputs": [],
   "source": [
    "class StateAcquisition:\n",
    "    def __init__(self, out_dir='raw/states/'):\n",
    "        self.out_dir = out_dir\n",
    "        os.makedirs(out_dir, exist_ok=True)\n",
    "\n",
    "    def run(self, in_file='zip_code_database.csv'):\n",
    "        \"\"\"Parses a list of all ZIPS per state\n",
    "\n",
    "        Args:\n",
    "            in_file (str, optional): [description]. Defaults to 'zip_code_database.csv'.\n",
    "        \"\"\"\n",
    "        df = pl.read_csv(in_file)\n",
    "        for c in list(df['state'].unique()):\n",
    "            df2 = df.filter(pl.col(\"state\") == c)\n",
    "            os.makedirs(f'{self.out_dir}/{c}', exist_ok=True)\n",
    "            df2.write_csv(f'{self.out_dir}/{c}/zips.csv')"
   ]
  },
  {
   "cell_type": "code",
   "execution_count": 10,
   "id": "a8af8a82-e725-4b5f-b414-84956b676070",
   "metadata": {},
   "outputs": [],
   "source": [
    "sa = StateAcquisition('/home/jovyan/work/raw/states/')\n",
    "sa.run(\"/home/jovyan/data/zip_code_database.csv\")"
   ]
  },
  {
   "cell_type": "markdown",
   "id": "9b63970a-4063-44e4-b1bc-22e42e515575",
   "metadata": {},
   "source": [
    "# Fetcing ACS Data"
   ]
  },
  {
   "cell_type": "code",
   "execution_count": 33,
   "id": "0f309205-4cf9-4234-949d-2e44a2e4f85c",
   "metadata": {},
   "outputs": [],
   "source": [
    "import requests\n",
    "import json\n",
    "import os \n",
    "import logging\n",
    "logger = logging.getLogger(__name__)\n",
    "\n",
    "\n",
    "class GeographicsAcquisition:\n",
    "    def __init__(self, out_dir: str):\n",
    "        self.out_dir = out_dir\n",
    "        os.makedirs(os.path.join(out_dir, 'counties/'), exist_ok=True)\n",
    "        os.makedirs(os.path.join(out_dir, 'zips/'), exist_ok=True)\n",
    "\n",
    "    def _save(self, data: dict, out_path: str):\n",
    "        if not data:\n",
    "            return \n",
    "        with open(out_path, 'w') as f:\n",
    "            json.dump(data, f)\n",
    "\n",
    "    def _get_geographics(self, by: str, on: str, i=0) -> dict:\n",
    "        \"\"\"Gets Geographics data from CensusReporter.org\n",
    "\n",
    "        Args:\n",
    "            by (str): Either zip or county\n",
    "            on (str): Zipcode or county ID\n",
    "            i (int, optional): Recursion coutner. Defaults to 0.\n",
    "\n",
    "        Returns:\n",
    "            dict: JSON data for the chosen geographics\n",
    "        \"\"\"\n",
    "        years = ['2018','2019','2020','2021','2022','2023','2017','2016','2015']\n",
    "        if i >= len(years):\n",
    "            return None \n",
    "        year = years[i]\n",
    "        # Set Summary\n",
    "        if by == 'zip':\n",
    "            summary = '860'\n",
    "        else:\n",
    "            summary = '050'\n",
    "        # Try\n",
    "        with requests.Session() as s:\n",
    "            r = s.get(f'http://embed.censusreporter.org.s3.amazonaws.com/1.0/data/profiles/{year}/{summary}00US{on}.json', timeout=2)\n",
    "        if (r.status_code) != 200:\n",
    "            return self._get_geographics(by, on=on, i=i+1)\n",
    "        _js = json.loads(r.content.decode())\n",
    "        return _js\n",
    "\n",
    "    def run(self, zips:pl.DataFrame, counties:pl.DataFrame):\n",
    "        for r in zips.iter_rows(named = True):\n",
    "            try:\n",
    "                _zip = r['zip']\n",
    "                _out_file = f'zips/{_zip}.json'\n",
    "                _out_path = os.path.join(self.out_dir, _out_file)\n",
    "                # Avoid uplates for now\n",
    "                if not os.path.exists(_out_path):\n",
    "                    self._save(self._get_geographics(by='zip', on=_zip), out_path=_out_path)\n",
    "            except Exception as e:\n",
    "                logger.exception(e)\n",
    "        for r in counties.iter_rows(named = True):\n",
    "            try:\n",
    "                # GEOID -> NAME\n",
    "                geoid = r['GEOID']\n",
    "                county = r['NAME'].replace(' County', '')\n",
    "                _out_file = f'counties/{county}.json'\n",
    "                _out_path = os.path.join(self.out_dir, _out_file)\n",
    "                # Avoid uplates for now\n",
    "                if not os.path.exists(_out_path):\n",
    "                    self._save(self._get_geographics(by='zip', on=geoid), out_path=_out_path)\n",
    "            except Exception as e:\n",
    "                logger.exception(e)"
   ]
  },
  {
   "cell_type": "code",
   "execution_count": 34,
   "id": "bb8c66be-fa40-458e-b709-ad15db23cf7a",
   "metadata": {},
   "outputs": [
    {
     "name": "stdout",
     "output_type": "stream",
     "text": [
      "shape: (5, 15)\n",
      "┌───────┬──────────┬──────────────┬─────────────┬───┬─────────┬──────────┬───────────┬─────────────┐\n",
      "│ zip   ┆ type     ┆ decommission ┆ primary_cit ┆ … ┆ country ┆ latitude ┆ longitude ┆ irs_estimat │\n",
      "│ ---   ┆ ---      ┆ ed           ┆ y           ┆   ┆ ---     ┆ ---      ┆ ---       ┆ ed_populati │\n",
      "│ i64   ┆ str      ┆ ---          ┆ ---         ┆   ┆ str     ┆ f64      ┆ f64       ┆ on          │\n",
      "│       ┆          ┆ i64          ┆ str         ┆   ┆         ┆          ┆           ┆ ---         │\n",
      "│       ┆          ┆              ┆             ┆   ┆         ┆          ┆           ┆ i64         │\n",
      "╞═══════╪══════════╪══════════════╪═════════════╪═══╪═════════╪══════════╪═══════════╪═════════════╡\n",
      "│ 90001 ┆ STANDARD ┆ 0            ┆ Los Angeles ┆ … ┆ US      ┆ 33.97    ┆ -118.24   ┆ 50130       │\n",
      "│ 90002 ┆ STANDARD ┆ 0            ┆ Los Angeles ┆ … ┆ US      ┆ 33.94    ┆ -118.24   ┆ 45910       │\n",
      "│ 90003 ┆ STANDARD ┆ 0            ┆ Los Angeles ┆ … ┆ US      ┆ 33.96    ┆ -118.27   ┆ 62560       │\n",
      "│ 90004 ┆ STANDARD ┆ 0            ┆ Los Angeles ┆ … ┆ US      ┆ 34.07    ┆ -118.31   ┆ 46770       │\n",
      "│ 90005 ┆ STANDARD ┆ 0            ┆ Los Angeles ┆ … ┆ US      ┆ 34.06    ┆ -118.31   ┆ 28000       │\n",
      "└───────┴──────────┴──────────────┴─────────────┴───┴─────────┴──────────┴───────────┴─────────────┘\n",
      "shape: (5, 10)\n",
      "┌──────┬───────┬──────────┬──────────────┬───┬────────────┬─────────────┬───────────┬──────────────┐\n",
      "│ USPS ┆ GEOID ┆ ANSICODE ┆ NAME         ┆ … ┆ ALAND_SQMI ┆ AWATER_SQMI ┆ INTPTLAT  ┆ INTPTLONG    │\n",
      "│ ---  ┆ ---   ┆ ---      ┆ ---          ┆   ┆ ---        ┆ ---         ┆ ---       ┆ …            │\n",
      "│ str  ┆ i64   ┆ i64      ┆ str          ┆   ┆ f64        ┆ f64         ┆ f64       ┆ ---          │\n",
      "│      ┆       ┆          ┆              ┆   ┆            ┆             ┆           ┆ str          │\n",
      "╞══════╪═══════╪══════════╪══════════════╪═══╪════════════╪═════════════╪═══════════╪══════════════╡\n",
      "│ CA   ┆ 6001  ┆ 1675839  ┆ Alameda      ┆ … ┆ 737.459    ┆ 83.749      ┆ 37.647139 ┆ -121.912488  │\n",
      "│      ┆       ┆          ┆ County       ┆   ┆            ┆             ┆           ┆ …            │\n",
      "│ CA   ┆ 6003  ┆ 1675840  ┆ Alpine       ┆ … ┆ 738.34     ┆ 4.848       ┆ 38.621783 ┆ -119.798352  │\n",
      "│      ┆       ┆          ┆ County       ┆   ┆            ┆             ┆           ┆ …            │\n",
      "│ CA   ┆ 6005  ┆ 1675841  ┆ Amador       ┆ … ┆ 594.585    ┆ 11.366      ┆ 38.443549 ┆ -120.653858  │\n",
      "│      ┆       ┆          ┆ County       ┆   ┆            ┆             ┆           ┆ …            │\n",
      "│ CA   ┆ 6007  ┆ 1675842  ┆ Butte County ┆ … ┆ 1636.512   ┆ 40.62       ┆ 39.665336 ┆ -121.603209  │\n",
      "│      ┆       ┆          ┆              ┆   ┆            ┆             ┆           ┆ …            │\n",
      "│ CA   ┆ 6009  ┆ 1675885  ┆ Calaveras    ┆ … ┆ 1020.016   ┆ 16.91       ┆ 38.191068 ┆ -120.554107  │\n",
      "│      ┆       ┆          ┆ County       ┆   ┆            ┆             ┆           ┆ …            │\n",
      "└──────┴───────┴──────────┴──────────────┴───┴────────────┴─────────────┴───────────┴──────────────┘\n"
     ]
    }
   ],
   "source": [
    "sample_zips = pl.read_csv(os.path.join(states_path,'CA/zips.csv'))\n",
    "sample_counties = pl.read_csv(os.path.join(states_path,'CA/counties.csv'))\n",
    "print(sample_zips.head(n = 5))\n",
    "print(sample_counties.head(n = 5))\n",
    "\n",
    "sample_zips = sample_zips.head(n = 5)\n",
    "sample_counties = sample_counties.head(n = 5)"
   ]
  },
  {
   "cell_type": "code",
   "execution_count": 35,
   "id": "28dce8d2-cf2c-404a-bb8e-a915c44143e6",
   "metadata": {},
   "outputs": [],
   "source": [
    "ga = GeographicsAcquisition(states_path)\n",
    "ga.run(sample_zips, sample_counties)"
   ]
  },
  {
   "cell_type": "code",
   "execution_count": null,
   "id": "42a3a560-81ec-4ae1-bcf4-68605ac2956c",
   "metadata": {},
   "outputs": [],
   "source": []
  }
 ],
 "metadata": {
  "kernelspec": {
   "display_name": "Python 3 (ipykernel)",
   "language": "python",
   "name": "python3"
  },
  "language_info": {
   "codemirror_mode": {
    "name": "ipython",
    "version": 3
   },
   "file_extension": ".py",
   "mimetype": "text/x-python",
   "name": "python",
   "nbconvert_exporter": "python",
   "pygments_lexer": "ipython3",
   "version": "3.11.6"
  }
 },
 "nbformat": 4,
 "nbformat_minor": 5
}
