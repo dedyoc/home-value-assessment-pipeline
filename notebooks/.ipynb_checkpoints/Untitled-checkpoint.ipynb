{
 "cells": [
  {
   "cell_type": "code",
   "execution_count": 1,
   "id": "6a77c009-21f3-406e-8c8f-79e39b9bd2b6",
   "metadata": {},
   "outputs": [
    {
     "name": "stdout",
     "output_type": "stream",
     "text": [
      "hello world\n"
     ]
    }
   ],
   "source": [
    "print('hello world')"
   ]
  },
  {
   "cell_type": "code",
   "execution_count": 2,
   "id": "a26b1564-0b7b-41ef-be0a-1ceb3aea1ed4",
   "metadata": {},
   "outputs": [],
   "source": [
    "import polars as pl\n",
    "import datetime as dt"
   ]
  },
  {
   "cell_type": "code",
   "execution_count": 3,
   "id": "8afa7309-7605-468f-ac63-36606658de94",
   "metadata": {},
   "outputs": [
    {
     "name": "stdout",
     "output_type": "stream",
     "text": [
      "shape: (3, 2)\n",
      "┌───────────────────┬────────────┐\n",
      "│ name              ┆ birthdate  │\n",
      "│ ---               ┆ ---        │\n",
      "│ str               ┆ date       │\n",
      "╞═══════════════════╪════════════╡\n",
      "│ Nguyen HUy CUowng ┆ 1979-01-02 │\n",
      "│ dao van tan       ┆ 1979-01-02 │\n",
      "│ hoc ngu nhu bo    ┆ 1979-01-02 │\n",
      "└───────────────────┴────────────┘\n"
     ]
    }
   ],
   "source": [
    "df = pl.DataFrame({\n",
    "    \"name\": [\"Nguyen HUy CUowng\", \"dao van tan\", \"hoc ngu nhu bo\"],\n",
    "    \"birthdate\": [\n",
    "        dt.date(1979,1,2),\n",
    "        dt.date(1979,1,2),\n",
    "        dt.date(1979,1,2),\n",
    "    ]})\n",
    "print(df)"
   ]
  },
  {
   "cell_type": "code",
   "execution_count": 4,
   "id": "fe8b9806-a692-415e-a7e8-dc270308148b",
   "metadata": {},
   "outputs": [],
   "source": [
    "df.write_csv(\"../data/output.csv\")"
   ]
  },
  {
   "cell_type": "code",
   "execution_count": 8,
   "id": "21d75e2f-5b6f-46f1-8627-2bf27e3a95fa",
   "metadata": {},
   "outputs": [
    {
     "data": {
      "text/plain": [
       "['.profile',\n",
       " '.bash_logout',\n",
       " '.bashrc',\n",
       " 'data',\n",
       " '.npm',\n",
       " '.cache',\n",
       " '.jupyter',\n",
       " '.local',\n",
       " '.ipython',\n",
       " '.conda',\n",
       " '.config',\n",
       " '.wget-hsts',\n",
       " 'work']"
      ]
     },
     "execution_count": 8,
     "metadata": {},
     "output_type": "execute_result"
    }
   ],
   "source": [
    "import os\n",
    "os.listdir(\"../\")"
   ]
  },
  {
   "cell_type": "code",
   "execution_count": 5,
   "id": "bf3e9eff-6e2d-4970-9a59-280db9f806ea",
   "metadata": {},
   "outputs": [
    {
     "name": "stderr",
     "output_type": "stream",
     "text": [
      "/opt/conda/lib/python3.11/pty.py:89: RuntimeWarning: Using fork() can cause Polars to deadlock in the child process.\n",
      "In addition, using fork() with Python in general is a recipe for mysterious\n",
      "deadlocks and crashes.\n",
      "\n",
      "The most likely reason you are seeing this error is because you are using the\n",
      "multiprocessing module on Linux, which uses fork() by default. This will be\n",
      "fixed in Python 3.14. Until then, you want to use the \"spawn\" context instead.\n",
      "\n",
      "See https://docs.pola.rs/user-guide/misc/multiprocessing/ for details.\n",
      "\n",
      "  pid, fd = os.forkpty()\n"
     ]
    },
    {
     "name": "stdout",
     "output_type": "stream",
     "text": [
      "Requirement already satisfied: requests in /opt/conda/lib/python3.11/site-packages (2.31.0)\n",
      "Requirement already satisfied: charset-normalizer<4,>=2 in /opt/conda/lib/python3.11/site-packages (from requests) (3.3.0)\n",
      "Requirement already satisfied: idna<4,>=2.5 in /opt/conda/lib/python3.11/site-packages (from requests) (3.4)\n",
      "Requirement already satisfied: urllib3<3,>=1.21.1 in /opt/conda/lib/python3.11/site-packages (from requests) (2.0.7)\n",
      "Requirement already satisfied: certifi>=2017.4.17 in /opt/conda/lib/python3.11/site-packages (from requests) (2023.7.22)\n"
     ]
    }
   ],
   "source": [
    "!pip install requests\n"
   ]
  },
  {
   "cell_type": "code",
   "execution_count": null,
   "id": "67eb06ab-16d8-48d3-8b49-2098ce637111",
   "metadata": {},
   "outputs": [],
   "source": [
    "import requests\n",
    "import json\n",
    "import os \n",
    "import logging\n",
    "logger = logging.getLogger(__name__)\n",
    "\n",
    "\n",
    "class GeographicsAcquisition:\n",
    "    def __init__(self, out_dir: str):\n",
    "        self.out_dir = out_dir\n",
    "        os.makedirs(os.path.join(out_dir, 'counties/'), exist_ok=True)\n",
    "        os.makedirs(os.path.join(out_dir, 'zips/'), exist_ok=True)\n",
    "\n",
    "    def _save(self, data: dict, out_path: str):\n",
    "        if not data:\n",
    "            return \n",
    "        with open(out_path, 'w') as f:\n",
    "            json.dump(data, f)\n",
    "\n",
    "    def _get_geographics(self, by: str, on: str, i=0) -> dict:\n",
    "        \"\"\"Gets Geographics data from CensusReporter.org\n",
    "\n",
    "        Args:\n",
    "            by (str): Either zip or county\n",
    "            on (str): Zipcode or county ID\n",
    "            i (int, optional): Recursion coutner. Defaults to 0.\n",
    "\n",
    "        Returns:\n",
    "            dict: JSON data for the chosen geographics\n",
    "        \"\"\"\n",
    "        years = ['2018','2019','2020','2021','2017','2016','2015']\n",
    "        if i >= len(years):\n",
    "            return None \n",
    "        year = years[i]\n",
    "        # Set Summary\n",
    "        if by == 'zip':\n",
    "            summary = '860'\n",
    "        else:\n",
    "            summary = '050'\n",
    "        # Try\n",
    "        with requests.Session() as s:\n",
    "            r = s.get(f'http://embed.censusreporter.org.s3.amazonaws.com/1.0/data/profiles/{year}/{summary}00US{on}.json', timeout=2)\n",
    "        if (r.status_code) != 200:\n",
    "            return self._get_geographics(by, on=on, i=i+1)\n",
    "        _js = json.loads(r.content.decode())\n",
    "        return _js\n",
    "\n",
    "    def run(self, zips:pl.DataFrame, counties:pl.DataFrame):\n",
    "        for i, r in zips.iterrows():\n",
    "            try:\n",
    "                _zip = r['zip']\n",
    "                _out_file = f'zips/{_zip}.json'\n",
    "                _out_path = os.path.join(self.out_dir, _out_file)\n",
    "                # Avoid updates for now\n",
    "                if not os.path.exists(_out_path):\n",
    "                    self._save(self._get_geographics(by='zip', on=_zip), out_path=_out_path)\n",
    "            except Exception as e:\n",
    "                logger.exception(e)\n",
    "        for i, r in counties.iterrows():\n",
    "            try:\n",
    "                # GEOID -> NAME\n",
    "                geoid = r['GEOID']\n",
    "                county = r['NAME'].replace(' County', '')\n",
    "                _out_file = f'counties/{county}.json'\n",
    "                _out_path = os.path.join(self.out_dir, _out_file)\n",
    "                # Avoid updates for now\n",
    "                if not os.path.exists(_out_path):\n",
    "                    self._save(self._get_geographics(by='zip', on=geoid), out_path=_out_path)\n",
    "            except Exception as e:\n",
    "                logger.exception(e)"
   ]
  }
 ],
 "metadata": {
  "kernelspec": {
   "display_name": "Python 3 (ipykernel)",
   "language": "python",
   "name": "python3"
  },
  "language_info": {
   "codemirror_mode": {
    "name": "ipython",
    "version": 3
   },
   "file_extension": ".py",
   "mimetype": "text/x-python",
   "name": "python",
   "nbconvert_exporter": "python",
   "pygments_lexer": "ipython3",
   "version": "3.11.6"
  }
 },
 "nbformat": 4,
 "nbformat_minor": 5
}
