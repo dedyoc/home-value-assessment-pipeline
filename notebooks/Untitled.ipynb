{
 "cells": [
  {
   "cell_type": "code",
   "execution_count": 1,
   "id": "6a77c009-21f3-406e-8c8f-79e39b9bd2b6",
   "metadata": {},
   "outputs": [
    {
     "name": "stdout",
     "output_type": "stream",
     "text": [
      "hello world\n"
     ]
    }
   ],
   "source": [
    "print('hello world')"
   ]
  },
  {
   "cell_type": "code",
   "execution_count": 2,
   "id": "a26b1564-0b7b-41ef-be0a-1ceb3aea1ed4",
   "metadata": {},
   "outputs": [],
   "source": [
    "import polars as pl\n",
    "import datetime as dt"
   ]
  },
  {
   "cell_type": "code",
   "execution_count": 3,
   "id": "21d75e2f-5b6f-46f1-8627-2bf27e3a95fa",
   "metadata": {},
   "outputs": [
    {
     "data": {
      "text/plain": [
       "['.profile',\n",
       " '.bash_logout',\n",
       " '.bashrc',\n",
       " 'data',\n",
       " '.npm',\n",
       " '.conda',\n",
       " '.cache',\n",
       " '.wget-hsts',\n",
       " '.config',\n",
       " '.jupyter',\n",
       " '.local',\n",
       " '.ipython',\n",
       " 'work']"
      ]
     },
     "execution_count": 3,
     "metadata": {},
     "output_type": "execute_result"
    }
   ],
   "source": [
    "import os\n",
    "os.listdir(\"/home/jovyan\")"
   ]
  },
  {
   "cell_type": "code",
   "execution_count": 4,
   "id": "67eb06ab-16d8-48d3-8b49-2098ce637111",
   "metadata": {},
   "outputs": [],
   "source": [
    "import requests\n",
    "import json\n",
    "import os \n",
    "import logging\n",
    "logger = logging.getLogger(__name__)\n",
    "\n",
    "\n",
    "class GeographicsAcquisition:\n",
    "    def __init__(self, out_dir: str):\n",
    "        self.out_dir = out_dir\n",
    "        os.makedirs(os.path.join(out_dir, 'counties/'), exist_ok=True)\n",
    "        os.makedirs(os.path.join(out_dir, 'zips/'), exist_ok=True)\n",
    "\n",
    "    def _save(self, data: dict, out_path: str):\n",
    "        if not data:\n",
    "            return \n",
    "        with open(out_path, 'w') as f:\n",
    "            json.dump(data, f)\n",
    "\n",
    "    def _get_geographics(self, by: str, on: str, i=0) -> dict:\n",
    "        \"\"\"Gets Geographics data from CensusReporter.org\n",
    "\n",
    "        Args:\n",
    "            by (str): Either zip or county\n",
    "            on (str): Zipcode or county ID\n",
    "            i (int, optional): Recursion coutner. Defaults to 0.\n",
    "\n",
    "        Returns:\n",
    "            dict: JSON data for the chosen geographics\n",
    "        \"\"\"\n",
    "        years = ['2018','2019','2020','2021','2017','2016','2015']\n",
    "        if i >= len(years):\n",
    "            return None \n",
    "        year = years[i]\n",
    "        # Set Summary\n",
    "        if by == 'zip':\n",
    "            summary = '860'\n",
    "        else:\n",
    "            summary = '050'\n",
    "        # Try\n",
    "        with requests.Session() as s:\n",
    "            r = s.get(f'http://embed.censusreporter.org.s3.amazonaws.com/1.0/data/profiles/{year}/{summary}00US{on}.json', timeout=2)\n",
    "        if (r.status_code) != 200:\n",
    "            return self._get_geographics(by, on=on, i=i+1)\n",
    "        _js = json.loads(r.content.decode())\n",
    "        return _js\n",
    "\n",
    "    def run(self, zips:pl.DataFrame, counties:pl.DataFrame):\n",
    "        for i, r in zips.iterrows():\n",
    "            try:\n",
    "                _zip = r['zip']\n",
    "                _out_file = f'zips/{_zip}.json'\n",
    "                _out_path = os.path.join(self.out_dir, _out_file)\n",
    "                # Avoid uplates for now\n",
    "                if not os.path.exists(_out_path):\n",
    "                    self._save(self._get_geographics(by='zip', on=_zip), out_path=_out_path)\n",
    "            except Exception as e:\n",
    "                logger.exception(e)\n",
    "        for i, r in counties.iterrows():\n",
    "            try:\n",
    "                # GEOID -> NAME\n",
    "                geoid = r['GEOID']\n",
    "                county = r['NAME'].replace(' County', '')\n",
    "                _out_file = f'counties/{county}.json'\n",
    "                _out_path = os.path.join(self.out_dir, _out_file)\n",
    "                # Avoid uplates for now\n",
    "                if not os.path.exists(_out_path):\n",
    "                    self._save(self._get_geographics(by='zip', on=geoid), out_path=_out_path)\n",
    "            except Exception as e:\n",
    "                logger.exception(e)"
   ]
  },
  {
   "cell_type": "markdown",
   "id": "306af9f7-f810-4791-b52a-8d457e1f47ff",
   "metadata": {},
   "source": [
    "# Acquiring counties"
   ]
  },
  {
   "cell_type": "code",
   "execution_count": 5,
   "id": "691154db-2ea1-4535-afab-22043369926d",
   "metadata": {},
   "outputs": [],
   "source": [
    "class CountyAcquisition:\n",
    "    def __init__(self, out_dir='raw/states/'):\n",
    "        self.out_dir = out_dir\n",
    "        os.makedirs(out_dir, exist_ok=True)\n",
    "\n",
    "    def run(self, in_file='2021_Gaz_counties_national.txt'):\n",
    "        \"\"\"Parse all US counties from here:\n",
    "        https://www2.census.gov/geo/docs/maps-data/data/gazetteer/2021_Gazetteer/2021_Gaz_counties_national.zip\n",
    "\n",
    "        Args:\n",
    "            in_file (str, optional): Input wget file. Defaults to '2021_Gaz_counties_national.txt'.\n",
    "        \"\"\"\n",
    "        df = pl.read_csv(in_file, separator='\\t')\n",
    "        for c in list(df['USPS'].unique()):\n",
    "            df2 = df.filter(pl.col(\"USPS\") == c)\n",
    "            os.makedirs(f'{self.out_dir}/{c}', exist_ok=True)\n",
    "            df2.write_csv(f'{self.out_dir}/{c}/counties.csv')"
   ]
  },
  {
   "cell_type": "code",
   "execution_count": 6,
   "id": "1f24030b-e9b0-4d82-9955-af1cffcbcb74",
   "metadata": {},
   "outputs": [],
   "source": [
    "ca = CountyAcquisition('/home/jovyan/work/raw/states/')\n",
    "ca.run(\"/home/jovyan/data/2024_Gaz_counties_national.txt\")"
   ]
  },
  {
   "cell_type": "markdown",
   "id": "fa6bd95a-050d-4ae6-abea-0ccdca64cfdb",
   "metadata": {},
   "source": [
    "# Acquiring State"
   ]
  },
  {
   "cell_type": "code",
   "execution_count": 7,
   "id": "ea75658e-385e-4537-b812-68d680b1a7cd",
   "metadata": {},
   "outputs": [],
   "source": [
    "class StateAcquisition:\n",
    "    def __init__(self, out_dir='raw/states/'):\n",
    "        self.out_dir = out_dir\n",
    "        os.makedirs(out_dir, exist_ok=True)\n",
    "\n",
    "    def run(self, in_file='zip_code_database.csv'):\n",
    "        \"\"\"Parses a list of all ZIPS per state\n",
    "\n",
    "        Args:\n",
    "            in_file (str, optional): [description]. Defaults to 'zip_code_database.csv'.\n",
    "        \"\"\"\n",
    "        df = pl.read_csv(in_file)\n",
    "        for c in list(df['state'].unique()):\n",
    "            df2 = df.filter(pl.col(\"state\") == c)\n",
    "            os.makedirs(f'{self.out_dir}/{c}', exist_ok=True)\n",
    "            df2.write_csv(f'{self.out_dir}/{c}/zips.csv')"
   ]
  },
  {
   "cell_type": "code",
   "execution_count": 9,
   "id": "a8af8a82-e725-4b5f-b414-84956b676070",
   "metadata": {},
   "outputs": [
    {
     "ename": "ColumnNotFoundError",
     "evalue": "\"state\" not found",
     "output_type": "error",
     "traceback": [
      "\u001b[0;31m---------------------------------------------------------------------------\u001b[0m",
      "\u001b[0;31mColumnNotFoundError\u001b[0m                       Traceback (most recent call last)",
      "\u001b[0;32m/tmp/ipykernel_10483/279577668.py\u001b[0m in \u001b[0;36m?\u001b[0;34m()\u001b[0m\n\u001b[1;32m      1\u001b[0m \u001b[0msa\u001b[0m \u001b[0;34m=\u001b[0m \u001b[0mStateAcquisition\u001b[0m\u001b[0;34m(\u001b[0m\u001b[0;34m'/home/jovyan/work/raw/states/'\u001b[0m\u001b[0;34m)\u001b[0m\u001b[0;34m\u001b[0m\u001b[0;34m\u001b[0m\u001b[0m\n\u001b[0;32m----> 2\u001b[0;31m \u001b[0msa\u001b[0m\u001b[0;34m.\u001b[0m\u001b[0mrun\u001b[0m\u001b[0;34m(\u001b[0m\u001b[0;34m\"/home/jovyan/data/2024_Gaz_zcta_national.txt\"\u001b[0m\u001b[0;34m)\u001b[0m\u001b[0;34m\u001b[0m\u001b[0;34m\u001b[0m\u001b[0m\n\u001b[0m",
      "\u001b[0;32m/tmp/ipykernel_10483/2302181616.py\u001b[0m in \u001b[0;36m?\u001b[0;34m(self, in_file)\u001b[0m\n\u001b[1;32m      9\u001b[0m         \u001b[0mArgs\u001b[0m\u001b[0;34m:\u001b[0m\u001b[0;34m\u001b[0m\u001b[0;34m\u001b[0m\u001b[0m\n\u001b[1;32m     10\u001b[0m             \u001b[0min_file\u001b[0m \u001b[0;34m(\u001b[0m\u001b[0mstr\u001b[0m\u001b[0;34m,\u001b[0m \u001b[0moptional\u001b[0m\u001b[0;34m)\u001b[0m\u001b[0;34m:\u001b[0m \u001b[0;34m[\u001b[0m\u001b[0mdescription\u001b[0m\u001b[0;34m]\u001b[0m\u001b[0;34m.\u001b[0m \u001b[0mDefaults\u001b[0m \u001b[0mto\u001b[0m \u001b[0;34m'zip_code_database.csv'\u001b[0m\u001b[0;34m.\u001b[0m\u001b[0;34m\u001b[0m\u001b[0;34m\u001b[0m\u001b[0m\n\u001b[1;32m     11\u001b[0m         \"\"\"\n\u001b[1;32m     12\u001b[0m         \u001b[0mdf\u001b[0m \u001b[0;34m=\u001b[0m \u001b[0mpl\u001b[0m\u001b[0;34m.\u001b[0m\u001b[0mread_csv\u001b[0m\u001b[0;34m(\u001b[0m\u001b[0min_file\u001b[0m\u001b[0;34m)\u001b[0m\u001b[0;34m\u001b[0m\u001b[0;34m\u001b[0m\u001b[0m\n\u001b[0;32m---> 13\u001b[0;31m         \u001b[0;32mfor\u001b[0m \u001b[0mc\u001b[0m \u001b[0;32min\u001b[0m \u001b[0mlist\u001b[0m\u001b[0;34m(\u001b[0m\u001b[0mdf\u001b[0m\u001b[0;34m[\u001b[0m\u001b[0;34m'state'\u001b[0m\u001b[0;34m]\u001b[0m\u001b[0;34m.\u001b[0m\u001b[0munique\u001b[0m\u001b[0;34m(\u001b[0m\u001b[0;34m)\u001b[0m\u001b[0;34m)\u001b[0m\u001b[0;34m:\u001b[0m\u001b[0;34m\u001b[0m\u001b[0;34m\u001b[0m\u001b[0m\n\u001b[0m\u001b[1;32m     14\u001b[0m             \u001b[0mdf2\u001b[0m \u001b[0;34m=\u001b[0m \u001b[0mdf\u001b[0m\u001b[0;34m.\u001b[0m\u001b[0mfilter\u001b[0m\u001b[0;34m(\u001b[0m\u001b[0mpl\u001b[0m\u001b[0;34m.\u001b[0m\u001b[0mcol\u001b[0m\u001b[0;34m(\u001b[0m\u001b[0;34m\"state\"\u001b[0m\u001b[0;34m)\u001b[0m \u001b[0;34m==\u001b[0m \u001b[0mc\u001b[0m\u001b[0;34m)\u001b[0m\u001b[0;34m\u001b[0m\u001b[0;34m\u001b[0m\u001b[0m\n\u001b[1;32m     15\u001b[0m             \u001b[0mos\u001b[0m\u001b[0;34m.\u001b[0m\u001b[0mmakedirs\u001b[0m\u001b[0;34m(\u001b[0m\u001b[0;34mf'{self.out_dir}/{c}'\u001b[0m\u001b[0;34m,\u001b[0m \u001b[0mexist_ok\u001b[0m\u001b[0;34m=\u001b[0m\u001b[0;32mTrue\u001b[0m\u001b[0;34m)\u001b[0m\u001b[0;34m\u001b[0m\u001b[0;34m\u001b[0m\u001b[0m\n\u001b[1;32m     16\u001b[0m             \u001b[0mdf2\u001b[0m\u001b[0;34m.\u001b[0m\u001b[0mwrite_csv\u001b[0m\u001b[0;34m(\u001b[0m\u001b[0;34mf'{self.out_dir}/{c}/zips.csv'\u001b[0m\u001b[0;34m)\u001b[0m\u001b[0;34m\u001b[0m\u001b[0;34m\u001b[0m\u001b[0m\n",
      "\u001b[0;32m/opt/conda/lib/python3.11/site-packages/polars/dataframe/frame.py\u001b[0m in \u001b[0;36m?\u001b[0;34m(self, key)\u001b[0m\n\u001b[1;32m   1349\u001b[0m         \u001b[0;31m│\u001b[0m \u001b[0;36m2\u001b[0m\u001b[0;31m \u001b[0m\u001b[0;31m \u001b[0m\u001b[0;31m \u001b[0m\u001b[0;31m┆\u001b[0m \u001b[0;36m5\u001b[0m\u001b[0;31m \u001b[0m\u001b[0;31m \u001b[0m\u001b[0;31m \u001b[0m\u001b[0;31m┆\u001b[0m \u001b[0;36m3\u001b[0m\u001b[0;31m \u001b[0m\u001b[0;31m \u001b[0m\u001b[0;31m \u001b[0m\u001b[0;31m│\u001b[0m\u001b[0;34m\u001b[0m\u001b[0;34m\u001b[0m\u001b[0m\n\u001b[1;32m   1350\u001b[0m         \u001b[0;31m│\u001b[0m \u001b[0;36m3\u001b[0m\u001b[0;31m \u001b[0m\u001b[0;31m \u001b[0m\u001b[0;31m \u001b[0m\u001b[0;31m┆\u001b[0m \u001b[0;36m6\u001b[0m\u001b[0;31m \u001b[0m\u001b[0;31m \u001b[0m\u001b[0;31m \u001b[0m\u001b[0;31m┆\u001b[0m \u001b[0;36m2\u001b[0m\u001b[0;31m \u001b[0m\u001b[0;31m \u001b[0m\u001b[0;31m \u001b[0m\u001b[0;31m│\u001b[0m\u001b[0;34m\u001b[0m\u001b[0;34m\u001b[0m\u001b[0m\n\u001b[1;32m   1351\u001b[0m         \u001b[0;31m└\u001b[0m\u001b[0;31m─\u001b[0m\u001b[0;31m─\u001b[0m\u001b[0;31m─\u001b[0m\u001b[0;31m─\u001b[0m\u001b[0;31m─\u001b[0m\u001b[0;31m┴\u001b[0m\u001b[0;31m─\u001b[0m\u001b[0;31m─\u001b[0m\u001b[0;31m─\u001b[0m\u001b[0;31m─\u001b[0m\u001b[0;31m─\u001b[0m\u001b[0;31m┴\u001b[0m\u001b[0;31m─\u001b[0m\u001b[0;31m─\u001b[0m\u001b[0;31m─\u001b[0m\u001b[0;31m─\u001b[0m\u001b[0;31m─\u001b[0m\u001b[0;31m┘\u001b[0m\u001b[0;34m\u001b[0m\u001b[0;34m\u001b[0m\u001b[0m\n\u001b[1;32m   1352\u001b[0m         \"\"\"\n\u001b[0;32m-> 1353\u001b[0;31m         \u001b[0;32mreturn\u001b[0m \u001b[0mget_df_item_by_key\u001b[0m\u001b[0;34m(\u001b[0m\u001b[0mself\u001b[0m\u001b[0;34m,\u001b[0m \u001b[0mkey\u001b[0m\u001b[0;34m)\u001b[0m\u001b[0;34m\u001b[0m\u001b[0;34m\u001b[0m\u001b[0m\n\u001b[0m",
      "\u001b[0;32m/opt/conda/lib/python3.11/site-packages/polars/_utils/getitem.py\u001b[0m in \u001b[0;36m?\u001b[0;34m(df, key)\u001b[0m\n\u001b[1;32m    159\u001b[0m     \u001b[0;31m# Single string input, e.g. df[\"a\"]\u001b[0m\u001b[0;34m\u001b[0m\u001b[0;34m\u001b[0m\u001b[0m\n\u001b[1;32m    160\u001b[0m     \u001b[0;32mif\u001b[0m \u001b[0misinstance\u001b[0m\u001b[0;34m(\u001b[0m\u001b[0mkey\u001b[0m\u001b[0;34m,\u001b[0m \u001b[0mstr\u001b[0m\u001b[0;34m)\u001b[0m\u001b[0;34m:\u001b[0m\u001b[0;34m\u001b[0m\u001b[0;34m\u001b[0m\u001b[0m\n\u001b[1;32m    161\u001b[0m         \u001b[0;31m# This case is required because empty strings are otherwise treated\u001b[0m\u001b[0;34m\u001b[0m\u001b[0;34m\u001b[0m\u001b[0m\n\u001b[1;32m    162\u001b[0m         \u001b[0;31m# as an empty Sequence in `_select_rows`\u001b[0m\u001b[0;34m\u001b[0m\u001b[0;34m\u001b[0m\u001b[0m\n\u001b[0;32m--> 163\u001b[0;31m         \u001b[0;32mreturn\u001b[0m \u001b[0mdf\u001b[0m\u001b[0;34m.\u001b[0m\u001b[0mget_column\u001b[0m\u001b[0;34m(\u001b[0m\u001b[0mkey\u001b[0m\u001b[0;34m)\u001b[0m\u001b[0;34m\u001b[0m\u001b[0;34m\u001b[0m\u001b[0m\n\u001b[0m\u001b[1;32m    164\u001b[0m \u001b[0;34m\u001b[0m\u001b[0m\n\u001b[1;32m    165\u001b[0m     \u001b[0;31m# Single input - df[1] - or multiple inputs - df[\"a\", \"b\", \"c\"]\u001b[0m\u001b[0;34m\u001b[0m\u001b[0;34m\u001b[0m\u001b[0m\n\u001b[1;32m    166\u001b[0m     \u001b[0;32mtry\u001b[0m\u001b[0;34m:\u001b[0m\u001b[0;34m\u001b[0m\u001b[0;34m\u001b[0m\u001b[0m\n",
      "\u001b[0;32m/opt/conda/lib/python3.11/site-packages/polars/dataframe/frame.py\u001b[0m in \u001b[0;36m?\u001b[0;34m(self, name, default)\u001b[0m\n\u001b[1;32m   7924\u001b[0m         \u001b[0;32mtry\u001b[0m\u001b[0;34m:\u001b[0m\u001b[0;34m\u001b[0m\u001b[0;34m\u001b[0m\u001b[0m\n\u001b[1;32m   7925\u001b[0m             \u001b[0;32mreturn\u001b[0m \u001b[0mwrap_s\u001b[0m\u001b[0;34m(\u001b[0m\u001b[0mself\u001b[0m\u001b[0;34m.\u001b[0m\u001b[0m_df\u001b[0m\u001b[0;34m.\u001b[0m\u001b[0mget_column\u001b[0m\u001b[0;34m(\u001b[0m\u001b[0mname\u001b[0m\u001b[0;34m)\u001b[0m\u001b[0;34m)\u001b[0m\u001b[0;34m\u001b[0m\u001b[0;34m\u001b[0m\u001b[0m\n\u001b[1;32m   7926\u001b[0m         \u001b[0;32mexcept\u001b[0m \u001b[0mColumnNotFoundError\u001b[0m\u001b[0;34m:\u001b[0m\u001b[0;34m\u001b[0m\u001b[0;34m\u001b[0m\u001b[0m\n\u001b[1;32m   7927\u001b[0m             \u001b[0;32mif\u001b[0m \u001b[0mdefault\u001b[0m \u001b[0;32mis\u001b[0m \u001b[0mno_default\u001b[0m\u001b[0;34m:\u001b[0m\u001b[0;34m\u001b[0m\u001b[0;34m\u001b[0m\u001b[0m\n\u001b[0;32m-> 7928\u001b[0;31m                 \u001b[0;32mraise\u001b[0m\u001b[0;34m\u001b[0m\u001b[0;34m\u001b[0m\u001b[0m\n\u001b[0m\u001b[1;32m   7929\u001b[0m             \u001b[0;32mreturn\u001b[0m \u001b[0mdefault\u001b[0m\u001b[0;34m\u001b[0m\u001b[0;34m\u001b[0m\u001b[0m\n",
      "\u001b[0;31mColumnNotFoundError\u001b[0m: \"state\" not found"
     ]
    }
   ],
   "source": [
    "sa = StateAcquisition('/home/jovyan/work/raw/states/')\n",
    "sa.run(\"/home/jovyan/data/2024_Gaz_zcta_national.txt\")"
   ]
  },
  {
   "cell_type": "code",
   "execution_count": null,
   "id": "ca73262e-5ef0-4a50-b9c1-71a8d4f61596",
   "metadata": {},
   "outputs": [],
   "source": []
  }
 ],
 "metadata": {
  "kernelspec": {
   "display_name": "Python 3 (ipykernel)",
   "language": "python",
   "name": "python3"
  },
  "language_info": {
   "codemirror_mode": {
    "name": "ipython",
    "version": 3
   },
   "file_extension": ".py",
   "mimetype": "text/x-python",
   "name": "python",
   "nbconvert_exporter": "python",
   "pygments_lexer": "ipython3",
   "version": "3.11.6"
  }
 },
 "nbformat": 4,
 "nbformat_minor": 5
}
